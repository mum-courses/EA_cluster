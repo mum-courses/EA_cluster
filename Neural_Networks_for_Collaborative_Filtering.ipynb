{
  "nbformat": 4,
  "nbformat_minor": 0,
  "metadata": {
    "colab": {
      "name": "Neural Networks for Collaborative Filtering.ipynb",
      "provenance": [],
      "collapsed_sections": [],
      "authorship_tag": "ABX9TyNoHYjadwmwDmsrWpiyAUvi",
      "include_colab_link": true
    },
    "kernelspec": {
      "name": "python3",
      "display_name": "Python 3"
    },
    "language_info": {
      "name": "python"
    }
  },
  "cells": [
    {
      "cell_type": "markdown",
      "metadata": {
        "id": "view-in-github",
        "colab_type": "text"
      },
      "source": [
        "<a href=\"https://colab.research.google.com/github/mum-courses/EA_cluster/blob/master/Neural_Networks_for_Collaborative_Filtering.ipynb\" target=\"_parent\"><img src=\"https://colab.research.google.com/assets/colab-badge.svg\" alt=\"Open In Colab\"/></a>"
      ]
    },
    {
      "cell_type": "code",
      "metadata": {
        "id": "wUHNc-65P1-s"
      },
      "source": [
        "# orginally from: https://colab.research.google.com/github/nipunbatra/blog/blob/master/_notebooks/2017-12-29-neural-collaborative-filtering.ipynb#scrollTo=-IL00kXcLI3M"
      ],
      "execution_count": null,
      "outputs": []
    },
    {
      "cell_type": "code",
      "metadata": {
        "colab": {
          "base_uri": "https://localhost:8080/"
        },
        "id": "D01fT7fzQOnz",
        "outputId": "70065406-5346-46b6-eb22-4c2c1567e0fe"
      },
      "source": [
        "!pip install surprise\n",
        "!pip install plot_keras_history"
      ],
      "execution_count": null,
      "outputs": [
        {
          "output_type": "stream",
          "text": [
            "Requirement already satisfied: surprise in /usr/local/lib/python3.7/dist-packages (0.1)\n",
            "Requirement already satisfied: scikit-surprise in /usr/local/lib/python3.7/dist-packages (from surprise) (1.1.1)\n",
            "Requirement already satisfied: numpy>=1.11.2 in /usr/local/lib/python3.7/dist-packages (from scikit-surprise->surprise) (1.19.5)\n",
            "Requirement already satisfied: six>=1.10.0 in /usr/local/lib/python3.7/dist-packages (from scikit-surprise->surprise) (1.15.0)\n",
            "Requirement already satisfied: joblib>=0.11 in /usr/local/lib/python3.7/dist-packages (from scikit-surprise->surprise) (1.0.1)\n",
            "Requirement already satisfied: scipy>=1.0.0 in /usr/local/lib/python3.7/dist-packages (from scikit-surprise->surprise) (1.4.1)\n",
            "Requirement already satisfied: plot_keras_history in /usr/local/lib/python3.7/dist-packages (1.1.29)\n",
            "Requirement already satisfied: pandas in /usr/local/lib/python3.7/dist-packages (from plot_keras_history) (1.1.5)\n",
            "Requirement already satisfied: scipy in /usr/local/lib/python3.7/dist-packages (from plot_keras_history) (1.4.1)\n",
            "Requirement already satisfied: matplotlib in /usr/local/lib/python3.7/dist-packages (from plot_keras_history) (3.2.2)\n",
            "Requirement already satisfied: sanitize-ml-labels in /usr/local/lib/python3.7/dist-packages (from plot_keras_history) (1.0.26)\n",
            "Requirement already satisfied: python-dateutil>=2.1 in /usr/local/lib/python3.7/dist-packages (from matplotlib->plot_keras_history) (2.8.1)\n",
            "Requirement already satisfied: numpy>=1.11 in /usr/local/lib/python3.7/dist-packages (from matplotlib->plot_keras_history) (1.19.5)\n",
            "Requirement already satisfied: kiwisolver>=1.0.1 in /usr/local/lib/python3.7/dist-packages (from matplotlib->plot_keras_history) (1.3.1)\n",
            "Requirement already satisfied: cycler>=0.10 in /usr/local/lib/python3.7/dist-packages (from matplotlib->plot_keras_history) (0.10.0)\n",
            "Requirement already satisfied: pyparsing!=2.0.4,!=2.1.2,!=2.1.6,>=2.0.1 in /usr/local/lib/python3.7/dist-packages (from matplotlib->plot_keras_history) (2.4.7)\n",
            "Requirement already satisfied: six in /usr/local/lib/python3.7/dist-packages (from cycler>=0.10->matplotlib->plot_keras_history) (1.15.0)\n",
            "Requirement already satisfied: pytz>=2017.2 in /usr/local/lib/python3.7/dist-packages (from pandas->plot_keras_history) (2018.9)\n",
            "Requirement already satisfied: compress-json in /usr/local/lib/python3.7/dist-packages (from sanitize-ml-labels->plot_keras_history) (1.0.4)\n"
          ],
          "name": "stdout"
        }
      ]
    },
    {
      "cell_type": "code",
      "metadata": {
        "id": "rQPkPFfWP6Qv"
      },
      "source": [
        "import pandas as pd\n",
        "import numpy as np\n",
        "import matplotlib.pyplot as plt\n",
        "import warnings\n",
        "warnings.filterwarnings('ignore')\n",
        "\n",
        "%matplotlib inline"
      ],
      "execution_count": null,
      "outputs": []
    },
    {
      "cell_type": "code",
      "metadata": {
        "colab": {
          "base_uri": "https://localhost:8080/",
          "height": 204
        },
        "id": "1LO3gJVxQDIF",
        "outputId": "88733791-4f44-461b-ddb8-43e77f33cd21"
      },
      "source": [
        "from surprise import Dataset\n",
        "surprise_dataset = Dataset.load_builtin('ml-100k')\n",
        "data=pd.DataFrame(surprise_dataset.raw_ratings, columns =['userId', 'itemId', 'rating','timestamp'])\n",
        "data=data.drop(columns=['timestamp'])\n",
        "data.userId = data.userId.astype('category').cat.codes.values\n",
        "data.itemId = data.itemId.astype('category').cat.codes.values\n",
        "data.head()\n"
      ],
      "execution_count": null,
      "outputs": [
        {
          "output_type": "execute_result",
          "data": {
            "text/html": [
              "<div>\n",
              "<style scoped>\n",
              "    .dataframe tbody tr th:only-of-type {\n",
              "        vertical-align: middle;\n",
              "    }\n",
              "\n",
              "    .dataframe tbody tr th {\n",
              "        vertical-align: top;\n",
              "    }\n",
              "\n",
              "    .dataframe thead th {\n",
              "        text-align: right;\n",
              "    }\n",
              "</style>\n",
              "<table border=\"1\" class=\"dataframe\">\n",
              "  <thead>\n",
              "    <tr style=\"text-align: right;\">\n",
              "      <th></th>\n",
              "      <th>userId</th>\n",
              "      <th>itemId</th>\n",
              "      <th>rating</th>\n",
              "    </tr>\n",
              "  </thead>\n",
              "  <tbody>\n",
              "    <tr>\n",
              "      <th>0</th>\n",
              "      <td>107</td>\n",
              "      <td>842</td>\n",
              "      <td>3.0</td>\n",
              "    </tr>\n",
              "    <tr>\n",
              "      <th>1</th>\n",
              "      <td>96</td>\n",
              "      <td>909</td>\n",
              "      <td>3.0</td>\n",
              "    </tr>\n",
              "    <tr>\n",
              "      <th>2</th>\n",
              "      <td>134</td>\n",
              "      <td>991</td>\n",
              "      <td>1.0</td>\n",
              "    </tr>\n",
              "    <tr>\n",
              "      <th>3</th>\n",
              "      <td>161</td>\n",
              "      <td>1139</td>\n",
              "      <td>2.0</td>\n",
              "    </tr>\n",
              "    <tr>\n",
              "      <th>4</th>\n",
              "      <td>74</td>\n",
              "      <td>957</td>\n",
              "      <td>1.0</td>\n",
              "    </tr>\n",
              "  </tbody>\n",
              "</table>\n",
              "</div>"
            ],
            "text/plain": [
              "   userId  itemId  rating\n",
              "0     107     842     3.0\n",
              "1      96     909     3.0\n",
              "2     134     991     1.0\n",
              "3     161    1139     2.0\n",
              "4      74     957     1.0"
            ]
          },
          "metadata": {
            "tags": []
          },
          "execution_count": 11
        }
      ]
    },
    {
      "cell_type": "code",
      "metadata": {
        "id": "e2dzDe5oShDX"
      },
      "source": [
        "X=data.loc[:,['userId','itemId']]\n",
        "y=data.loc[:,'rating']\n",
        "\n",
        "from sklearn.model_selection import train_test_split\n",
        "train,test = train_test_split(data, test_size=0.2, random_state=42)\n"
      ],
      "execution_count": null,
      "outputs": []
    },
    {
      "cell_type": "code",
      "metadata": {
        "id": "NqLgkf-ZRilI"
      },
      "source": [
        ""
      ],
      "execution_count": null,
      "outputs": []
    },
    {
      "cell_type": "markdown",
      "metadata": {
        "id": "Ex6gfyXwRrED"
      },
      "source": [
        "#SVD"
      ]
    },
    {
      "cell_type": "code",
      "metadata": {
        "colab": {
          "base_uri": "https://localhost:8080/"
        },
        "id": "C1sJBPKpRvHu",
        "outputId": "5631baeb-a53f-4baa-de65-d3099a6d4620"
      },
      "source": [
        "from surprise import SVD\n",
        "from surprise import accuracy\n",
        "from surprise.model_selection import train_test_split\n",
        "algo = SVD()\n",
        "trainset, testset = train_test_split(surprise_dataset, test_size=.2)\n",
        "algo.fit(trainset)\n",
        "\n",
        "predictions = algo.test(testset)\n",
        "\n",
        "# Then compute RMSE\n",
        "accuracy.rmse(predictions)"
      ],
      "execution_count": null,
      "outputs": [
        {
          "output_type": "stream",
          "text": [
            "RMSE: 0.9282\n"
          ],
          "name": "stdout"
        },
        {
          "output_type": "execute_result",
          "data": {
            "text/plain": [
              "0.9282000806330497"
            ]
          },
          "metadata": {
            "tags": []
          },
          "execution_count": 13
        }
      ]
    },
    {
      "cell_type": "code",
      "metadata": {
        "id": "4_9k9WgKR7dV"
      },
      "source": [
        ""
      ],
      "execution_count": null,
      "outputs": []
    },
    {
      "cell_type": "markdown",
      "metadata": {
        "id": "PWxkjAkQVbPM"
      },
      "source": [
        "#Neural Netwrok"
      ]
    },
    {
      "cell_type": "code",
      "metadata": {
        "id": "LqYbpiL3g33D"
      },
      "source": [
        "#common code\n",
        "\n",
        "#input: [test.userId,test.itemId] , y:test.rating\n",
        "def evalModel(model,input,y):\n",
        "  from sklearn.metrics import mean_squared_error\n",
        "  return mean_squared_error(y, model.predict(input))\n",
        "\n",
        "def plotHistory(history):\n",
        "  from plot_keras_history import plot_history\n",
        "  import matplotlib.pyplot as plt\n",
        "\n",
        "  plot_history(history)\n",
        "  plt.show()\n",
        "  plt.close()\n",
        "def visualizeModel(model):\n",
        "  from IPython.display import SVG\n",
        "  from keras.utils.vis_utils import model_to_dot\n",
        "  print(model.summary())\n",
        "  \n",
        "  return SVG(model_to_dot(model,  show_shapes=False, show_layer_names=True, rankdir='HB').create(prog='dot', format='svg'))\n",
        "\n",
        "\n",
        "def trainNN(model):\n",
        "  model.compile(optimizer='adam',loss= 'mean_squared_error')\n",
        "\n",
        "  earlyStopping=tf.keras.callbacks.EarlyStopping(monitor='loss', patience=3)\n",
        "  history = model.fit([train.userId, train.itemId], train.rating, epochs=100, verbose=1\n",
        "                      ,batch_size=100\n",
        "                    ,callbacks=[earlyStopping],\n",
        "                    validation_split=0.1)\n",
        "  plotHistory(history)\n",
        "  score=evalModel(model,[test.userId,test.itemId],test.rating)\n",
        "  print(f\"test MSE: {score}\")\n",
        "  return history,model\n"
      ],
      "execution_count": null,
      "outputs": []
    },
    {
      "cell_type": "markdown",
      "metadata": {
        "id": "Ypt-C8K6Ve4k"
      },
      "source": [
        "## concat"
      ]
    },
    {
      "cell_type": "code",
      "metadata": {
        "id": "7e97RUuGViGO"
      },
      "source": [
        "def buildConcatModel():\n",
        "  import tensorflow as tf\n",
        "  from tensorflow import keras\n",
        "  from tensorflow.keras import layers\n",
        "\n",
        "  n_latent_factors_user = 100\n",
        "  n_latent_factors_movie = 100\n",
        "  n_users, n_movies = len(data.userId.unique()), len(data.itemId.unique())\n",
        "\n",
        "  movie_input = keras.layers.Input(shape=[1],name='Item')\n",
        "  movie_embedding_mlp = keras.layers.Embedding(n_movies + 1, n_latent_factors_movie, name='Movie-Embedding-MLP')(movie_input)\n",
        "  movie_vec_mlp = keras.layers.Flatten(name='FlattenMovies-MLP')(movie_embedding_mlp)\n",
        "  movie_vec_mlp = keras.layers.Dropout(0.2)(movie_vec_mlp)\n",
        "\n",
        "\n",
        "\n",
        "  user_input = keras.layers.Input(shape=[1],name='User')\n",
        "  user_vec_mlp = keras.layers.Flatten(name='FlattenUsers-MLP')(keras.layers.Embedding(n_users + 1, n_latent_factors_user,name='User-Embedding-MLP')(user_input))\n",
        "  user_vec_mlp = keras.layers.Dropout(0.2)(user_vec_mlp)\n",
        "\n",
        "  concat=tf.keras.layers.Concatenate()([movie_vec_mlp, user_vec_mlp])\n",
        "  concat_dropout = keras.layers.Dropout(0.2)(concat)\n",
        "\n",
        "  dense = keras.layers.Dense(200,name='FullyConnected')(concat_dropout)\n",
        "  dense_batch = keras.layers.BatchNormalization(name='Batch')(dense)\n",
        "  dropout_1 = keras.layers.Dropout(0.2,name='Dropout-1')(dense_batch)\n",
        "\n",
        "  dense_2 = keras.layers.Dense(100,name='FullyConnected-1')(dropout_1)\n",
        "  dense_batch_2 = keras.layers.BatchNormalization(name='Batch-2')(dense_2)\n",
        "  dropout_2 = keras.layers.Dropout(0.2,name='Dropout-2')(dense_batch_2)\n",
        "\n",
        "  dense_3 = keras.layers.Dense(50,name='FullyConnected-2')(dropout_2)\n",
        "\n",
        "  dense_4 = keras.layers.Dense(20,name='FullyConnected-2')(dropout_2)\n",
        "\n",
        "  result = keras.layers.Dense(1, activation='relu',name='Prediction')(dense_4)\n",
        "\n",
        "\n",
        "  model = keras.Model([user_input, movie_input], result)\n",
        " \n",
        "  return model"
      ],
      "execution_count": null,
      "outputs": []
    },
    {
      "cell_type": "code",
      "metadata": {
        "colab": {
          "base_uri": "https://localhost:8080/",
          "height": 1000
        },
        "id": "iDfRRuRBkr97",
        "outputId": "30262dc6-2d4c-44ea-be3d-c9a1634fc36a"
      },
      "source": [
        "history,model = trainNN(buildConcatModel())"
      ],
      "execution_count": 117,
      "outputs": [
        {
          "output_type": "stream",
          "text": [
            "Epoch 1/100\n",
            "720/720 [==============================] - 8s 9ms/step - loss: 2.3404 - val_loss: 0.9698\n",
            "Epoch 2/100\n",
            "720/720 [==============================] - 6s 9ms/step - loss: 0.9934 - val_loss: 0.9236\n",
            "Epoch 3/100\n",
            "720/720 [==============================] - 6s 9ms/step - loss: 0.9388 - val_loss: 0.9257\n",
            "Epoch 4/100\n",
            "720/720 [==============================] - 7s 9ms/step - loss: 0.9201 - val_loss: 0.9509\n",
            "Epoch 5/100\n",
            "720/720 [==============================] - 6s 9ms/step - loss: 0.9093 - val_loss: 0.9126\n",
            "Epoch 6/100\n",
            "720/720 [==============================] - 6s 9ms/step - loss: 0.9055 - val_loss: 0.9135\n",
            "Epoch 7/100\n",
            "720/720 [==============================] - 6s 9ms/step - loss: 0.8968 - val_loss: 0.9408\n",
            "Epoch 8/100\n",
            "720/720 [==============================] - 7s 9ms/step - loss: 0.8953 - val_loss: 0.9244\n",
            "Epoch 9/100\n",
            "720/720 [==============================] - 7s 9ms/step - loss: 0.8891 - val_loss: 0.9120\n",
            "Epoch 10/100\n",
            "720/720 [==============================] - 6s 9ms/step - loss: 0.8880 - val_loss: 0.9264\n",
            "Epoch 11/100\n",
            "720/720 [==============================] - 6s 9ms/step - loss: 0.8848 - val_loss: 0.9330\n",
            "Epoch 12/100\n",
            "720/720 [==============================] - 6s 9ms/step - loss: 0.8812 - val_loss: 0.9388\n",
            "Epoch 13/100\n",
            "720/720 [==============================] - 6s 9ms/step - loss: 0.8797 - val_loss: 0.9404\n",
            "Epoch 14/100\n",
            "720/720 [==============================] - 6s 9ms/step - loss: 0.8771 - val_loss: 0.9080\n",
            "Epoch 15/100\n",
            "720/720 [==============================] - 6s 8ms/step - loss: 0.8755 - val_loss: 0.9059\n",
            "Epoch 16/100\n",
            "720/720 [==============================] - 6s 9ms/step - loss: 0.8726 - val_loss: 0.9097\n",
            "Epoch 17/100\n",
            "720/720 [==============================] - 6s 9ms/step - loss: 0.8700 - val_loss: 0.9139\n",
            "Epoch 18/100\n",
            "720/720 [==============================] - 6s 9ms/step - loss: 0.8695 - val_loss: 0.9078\n",
            "Epoch 19/100\n",
            "720/720 [==============================] - 6s 9ms/step - loss: 0.8690 - val_loss: 0.9082\n",
            "Epoch 20/100\n",
            "720/720 [==============================] - 6s 9ms/step - loss: 0.8672 - val_loss: 0.9154\n",
            "Epoch 21/100\n",
            "720/720 [==============================] - 6s 9ms/step - loss: 0.8642 - val_loss: 0.9104\n",
            "Epoch 22/100\n",
            "720/720 [==============================] - 6s 8ms/step - loss: 0.8657 - val_loss: 0.9131\n",
            "Epoch 23/100\n",
            "720/720 [==============================] - 6s 8ms/step - loss: 0.8638 - val_loss: 0.9055\n",
            "Epoch 24/100\n",
            "720/720 [==============================] - 6s 8ms/step - loss: 0.8621 - val_loss: 0.9058\n",
            "Epoch 25/100\n",
            "720/720 [==============================] - 6s 8ms/step - loss: 0.8622 - val_loss: 0.9061\n",
            "Epoch 26/100\n",
            "720/720 [==============================] - 6s 8ms/step - loss: 0.8627 - val_loss: 0.9028\n",
            "Epoch 27/100\n",
            "720/720 [==============================] - 6s 8ms/step - loss: 0.8619 - val_loss: 0.9072\n",
            "Epoch 28/100\n",
            "720/720 [==============================] - 6s 8ms/step - loss: 0.8619 - val_loss: 0.9091\n",
            "Epoch 29/100\n",
            "720/720 [==============================] - 6s 8ms/step - loss: 0.8601 - val_loss: 0.9063\n",
            "Epoch 30/100\n",
            "720/720 [==============================] - 6s 8ms/step - loss: 0.8604 - val_loss: 0.9095\n",
            "Epoch 31/100\n",
            "720/720 [==============================] - 6s 8ms/step - loss: 0.8579 - val_loss: 0.9063\n",
            "Epoch 32/100\n",
            "720/720 [==============================] - 6s 8ms/step - loss: 0.8580 - val_loss: 0.9064\n",
            "Epoch 33/100\n",
            "720/720 [==============================] - 6s 8ms/step - loss: 0.8589 - val_loss: 0.9055\n",
            "Epoch 34/100\n",
            "720/720 [==============================] - 6s 8ms/step - loss: 0.8594 - val_loss: 0.9063\n"
          ],
          "name": "stdout"
        },
        {
          "output_type": "display_data",
          "data": {
            "image/png": "[encoded data removed]",
            "text/plain": [
              "<Figure size 360x360 with 1 Axes>"
            ]
          },
          "metadata": {
            "tags": [],
            "needs_background": "light"
          }
        },
        {
          "output_type": "stream",
          "text": [
            "test MSE: 0.8927092305626022\n"
          ],
          "name": "stdout"
        }
      ]
    },
    {
      "cell_type": "markdown",
      "metadata": {
        "id": "3c_w2wU9oKgB"
      },
      "source": [
        "## Dot product"
      ]
    },
    {
      "cell_type": "code",
      "metadata": {
        "id": "6olt4clQoMOE"
      },
      "source": [
        "def buildDotModel():\n",
        "  import tensorflow as tf\n",
        "  from tensorflow import keras\n",
        "  from tensorflow.keras import layers\n",
        "\n",
        "  n_latent_factors_user = 50\n",
        "  n_latent_factors_movie = 50\n",
        "  n_users, n_movies = len(data.userId.unique()), len(data.itemId.unique())\n",
        "\n",
        "  movie_input = keras.layers.Input(shape=[1],name='Item')\n",
        "  movie_embedding_mlp = keras.layers.Embedding(n_movies + 1, n_latent_factors_movie, name='Movie-Embedding-MLP')(movie_input)\n",
        "  movie_vec_mlp = keras.layers.Flatten(name='FlattenMovies-MLP')(movie_embedding_mlp)\n",
        "  movie_vec_mlp = keras.layers.Dropout(0.2)(movie_vec_mlp)\n",
        "\n",
        "\n",
        "\n",
        "  user_input = keras.layers.Input(shape=[1],name='User')\n",
        "  user_vec_mlp = keras.layers.Flatten(name='FlattenUsers-MLP')(keras.layers.Embedding(n_users + 1, n_latent_factors_user,name='User-Embedding-MLP')(user_input))\n",
        "  user_vec_mlp = keras.layers.Dropout(0.2)(user_vec_mlp)\n",
        "\n",
        "  #dot product to create cosine similiarity\n",
        "  concat=tf.keras.layers.Dot(axes=1)([movie_vec_mlp, user_vec_mlp])\n",
        "  concat_dropout = keras.layers.Dropout(0.2)(concat)\n",
        "\n",
        "  dense = keras.layers.Dense(100,name='FullyConnected')(concat_dropout)\n",
        "  dense_batch = keras.layers.BatchNormalization(name='Batch')(dense)\n",
        "  dropout_1 = keras.layers.Dropout(0.2,name='Dropout-1')(dense_batch)\n",
        "\n",
        "  dense_2 = keras.layers.Dense(50,name='FullyConnected-1')(dropout_1)\n",
        "  dense_batch_2 = keras.layers.BatchNormalization(name='Batch-2')(dense_2)\n",
        "  dropout_2 = keras.layers.Dropout(0.2,name='Dropout-2')(dense_batch_2)\n",
        "\n",
        "  dense_3 = keras.layers.Dense(20,name='FullyConnected-2')(dropout_2)\n",
        "\n",
        "  pred_mlp = keras.layers.Dense(1, activation='relu',name='Activation')(dense_3)\n",
        "\n",
        "  result = keras.layers.Dense(1,name='Prediction')(pred_mlp)\n",
        "\n",
        "\n",
        "  model = keras.Model([user_input, movie_input], result)\n",
        "  opt = keras.optimizers.Adam(lr =0.01)\n",
        "  model.compile(optimizer='adam',loss= 'mean_squared_error')\n",
        "  return model"
      ],
      "execution_count": null,
      "outputs": []
    },
    {
      "cell_type": "code",
      "metadata": {
        "id": "tw_-4YnP3q0M"
      },
      "source": [
        "history,model = trainNN(buildDotModel())"
      ],
      "execution_count": null,
      "outputs": []
    },
    {
      "cell_type": "markdown",
      "metadata": {
        "id": "GB4Y78bmWGxv"
      },
      "source": [
        "## Combined (NCF paper)"
      ]
    },
    {
      "cell_type": "code",
      "metadata": {
        "id": "Ff3u5ZtYWsUc"
      },
      "source": [
        "def buildCombinedNCFModel():\n",
        "  import tensorflow as tf\n",
        "  from tensorflow import keras\n",
        "  from tensorflow.keras import layers\n",
        "\n",
        "  n_latent_factors_user = 128\n",
        "  n_latent_factors_movie = 128\n",
        "  n_latent_factors_mf = 128\n",
        "  n_users, n_movies = len(data.userId.unique()), len(data.itemId.unique())\n",
        "\n",
        "  movie_input = keras.layers.Input(shape=[1],name='Item')\n",
        "  movie_embedding_mlp = keras.layers.Embedding(n_movies + 1, n_latent_factors_movie, name='Movie-Embedding-MLP')(movie_input)\n",
        "  movie_vec_mlp = keras.layers.Flatten(name='FlattenMovies-MLP')(movie_embedding_mlp)\n",
        "  movie_vec_mlp = keras.layers.Dropout(0.2)(movie_vec_mlp)\n",
        "\n",
        "  movie_embedding_mf = keras.layers.Embedding(n_movies + 1, n_latent_factors_mf, name='Movie-Embedding-MF')(movie_input)\n",
        "  movie_vec_mf = keras.layers.Flatten(name='FlattenMovies-MF')(movie_embedding_mf)\n",
        "  movie_vec_mf = keras.layers.Dropout(0.2)(movie_vec_mf)\n",
        "\n",
        "\n",
        "  user_input = keras.layers.Input(shape=[1],name='User')\n",
        "  user_vec_mlp = keras.layers.Flatten(name='FlattenUsers-MLP')(keras.layers.Embedding(n_users + 1, n_latent_factors_user,name='User-Embedding-MLP')(user_input))\n",
        "  user_vec_mlp = keras.layers.Dropout(0.2)(user_vec_mlp)\n",
        "\n",
        "  user_vec_mf = keras.layers.Flatten(name='FlattenUsers-MF')(keras.layers.Embedding(n_users + 1, n_latent_factors_mf,name='User-Embedding-MF')(user_input))\n",
        "  user_vec_mf = keras.layers.Dropout(0.2)(user_vec_mf)\n",
        "\n",
        "\n",
        "  #concat = keras.layers.merge([movie_vec_mlp, user_vec_mlp], mode='concat',name='Concat')\n",
        "  concat=tf.keras.layers.Concatenate()([movie_vec_mlp, user_vec_mlp])\n",
        "  concat_dropout = keras.layers.Dropout(0.2)(concat)\n",
        "  dense = keras.layers.Dense(200,name='FullyConnected')(concat_dropout)\n",
        "  dense_batch = keras.layers.BatchNormalization(name='Batch')(dense)\n",
        "  dropout_1 = keras.layers.Dropout(0.2,name='Dropout-1')(dense_batch)\n",
        "  dense_2 = keras.layers.Dense(100,name='FullyConnected-1')(dropout_1)\n",
        "  dense_batch_2 = keras.layers.BatchNormalization(name='Batch-2')(dense_2)\n",
        "\n",
        "\n",
        "  dropout_2 = keras.layers.Dropout(0.2,name='Dropout-2')(dense_batch_2)\n",
        "  dense_3 = keras.layers.Dense(50,name='FullyConnected-2')(dropout_2)\n",
        "  dense_4 = keras.layers.Dense(20,name='FullyConnected-3', activation='relu')(dense_3)\n",
        "\n",
        "  #pred_mf = keras.layers.merge([movie_vec_mf, user_vec_mf], mode='dot',name='Dot')\n",
        "  pred_mf = tf.keras.layers.Dot(axes=1,name=\"pred_mf\")([movie_vec_mf, user_vec_mf])\n",
        "\n",
        "  pred_mlp = keras.layers.Dense(1, activation='relu',name='Activation')(dense_4)\n",
        "\n",
        "  #combine_mlp_mf = keras.layers.merge([pred_mf, pred_mlp], mode='concat',name='Concat-MF-MLP')\n",
        "  combine_mlp_mf=tf.keras.layers.Concatenate(name=\"Concat-MF-MLP\")([pred_mf, pred_mlp])\n",
        "  result_combine = keras.layers.Dense(100,name='Combine-MF-MLP')(combine_mlp_mf)\n",
        "  deep_combine = keras.layers.Dense(100,name='FullyConnected-4')(result_combine)\n",
        "\n",
        "\n",
        "  result = keras.layers.Dense(1,name='Prediction')(deep_combine)\n",
        "\n",
        "\n",
        "  model = keras.Model([user_input, movie_input], result)\n",
        "  return model"
      ],
      "execution_count": null,
      "outputs": []
    },
    {
      "cell_type": "code",
      "metadata": {
        "colab": {
          "base_uri": "https://localhost:8080/",
          "height": 826
        },
        "id": "bg-CBP72WUZb",
        "outputId": "36b16382-43ff-4835-d228-805a762d0c92"
      },
      "source": [
        "history,model = trainNN(buildCombinedNCFModel())"
      ],
      "execution_count": null,
      "outputs": [
        {
          "output_type": "stream",
          "text": [
            "Epoch 1/100\n",
            "720/720 [==============================] - 12s 15ms/step - loss: 1.5253 - val_loss: 1.0170\n",
            "Epoch 2/100\n",
            "720/720 [==============================] - 11s 15ms/step - loss: 0.7751 - val_loss: 0.9907\n",
            "Epoch 3/100\n",
            "720/720 [==============================] - 11s 15ms/step - loss: 0.4449 - val_loss: 1.0109\n",
            "Epoch 4/100\n",
            "720/720 [==============================] - 11s 15ms/step - loss: 0.3519 - val_loss: 1.0088\n",
            "Epoch 5/100\n",
            "720/720 [==============================] - 11s 15ms/step - loss: 0.3110 - val_loss: 1.0294\n",
            "Epoch 6/100\n",
            "720/720 [==============================] - 11s 15ms/step - loss: 0.2878 - val_loss: 1.0163\n",
            "Epoch 7/100\n",
            "720/720 [==============================] - 11s 15ms/step - loss: 0.2696 - val_loss: 1.0043\n",
            "Epoch 8/100\n",
            "720/720 [==============================] - 11s 15ms/step - loss: 0.2608 - val_loss: 1.0341\n",
            "Epoch 9/100\n",
            "720/720 [==============================] - 11s 15ms/step - loss: 0.2524 - val_loss: 1.0208\n",
            "Epoch 10/100\n",
            "720/720 [==============================] - 11s 15ms/step - loss: 0.2454 - val_loss: 1.0176\n",
            "Epoch 11/100\n",
            "720/720 [==============================] - 11s 15ms/step - loss: 0.2346 - val_loss: 0.9870\n",
            "Epoch 12/100\n",
            "720/720 [==============================] - 11s 15ms/step - loss: 0.2281 - val_loss: 0.9956\n",
            "Epoch 13/100\n",
            "720/720 [==============================] - 11s 15ms/step - loss: 0.2226 - val_loss: 0.9958\n",
            "Epoch 14/100\n"
          ],
          "name": "stdout"
        },
        {
          "output_type": "error",
          "ename": "KeyboardInterrupt",
          "evalue": "ignored",
          "traceback": [
            "\u001b[0;31m---------------------------------------------------------------------------\u001b[0m",
            "\u001b[0;31mKeyboardInterrupt\u001b[0m                         Traceback (most recent call last)",
            "\u001b[0;32m<ipython-input-115-18a7d5852649>\u001b[0m in \u001b[0;36m<module>\u001b[0;34m()\u001b[0m\n\u001b[0;32m----> 1\u001b[0;31m \u001b[0mhistory\u001b[0m\u001b[0;34m,\u001b[0m\u001b[0mmodel\u001b[0m \u001b[0;34m=\u001b[0m \u001b[0mtrainNN\u001b[0m\u001b[0;34m(\u001b[0m\u001b[0mbuildCombinedNCFModel\u001b[0m\u001b[0;34m(\u001b[0m\u001b[0;34m)\u001b[0m\u001b[0;34m)\u001b[0m\u001b[0;34m\u001b[0m\u001b[0;34m\u001b[0m\u001b[0m\n\u001b[0m",
            "\u001b[0;32m<ipython-input-114-8a4baf5bbbf5>\u001b[0m in \u001b[0;36mtrainNN\u001b[0;34m(model)\u001b[0m\n\u001b[1;32m     28\u001b[0m                       \u001b[0;34m,\u001b[0m\u001b[0mbatch_size\u001b[0m\u001b[0;34m=\u001b[0m\u001b[0;36m100\u001b[0m\u001b[0;34m\u001b[0m\u001b[0;34m\u001b[0m\u001b[0m\n\u001b[1;32m     29\u001b[0m                     \u001b[0;34m,\u001b[0m\u001b[0mcallbacks\u001b[0m\u001b[0;34m=\u001b[0m\u001b[0;34m[\u001b[0m\u001b[0mearlyStopping\u001b[0m\u001b[0;34m]\u001b[0m\u001b[0;34m,\u001b[0m\u001b[0;34m\u001b[0m\u001b[0;34m\u001b[0m\u001b[0m\n\u001b[0;32m---> 30\u001b[0;31m                     validation_split=0.1)\n\u001b[0m\u001b[1;32m     31\u001b[0m   \u001b[0mplotHistory\u001b[0m\u001b[0;34m(\u001b[0m\u001b[0mhistory\u001b[0m\u001b[0;34m)\u001b[0m\u001b[0;34m\u001b[0m\u001b[0;34m\u001b[0m\u001b[0m\n\u001b[1;32m     32\u001b[0m   \u001b[0mscore\u001b[0m\u001b[0;34m=\u001b[0m\u001b[0mevalModel\u001b[0m\u001b[0;34m(\u001b[0m\u001b[0mmodel\u001b[0m\u001b[0;34m,\u001b[0m\u001b[0;34m[\u001b[0m\u001b[0mtest\u001b[0m\u001b[0;34m.\u001b[0m\u001b[0muserId\u001b[0m\u001b[0;34m,\u001b[0m\u001b[0mtest\u001b[0m\u001b[0;34m.\u001b[0m\u001b[0mitemId\u001b[0m\u001b[0;34m]\u001b[0m\u001b[0;34m,\u001b[0m\u001b[0mtest\u001b[0m\u001b[0;34m.\u001b[0m\u001b[0mrating\u001b[0m\u001b[0;34m)\u001b[0m\u001b[0;34m\u001b[0m\u001b[0;34m\u001b[0m\u001b[0m\n",
            "\u001b[0;32m/usr/local/lib/python3.7/dist-packages/tensorflow/python/keras/engine/training.py\u001b[0m in \u001b[0;36mfit\u001b[0;34m(self, x, y, batch_size, epochs, verbose, callbacks, validation_split, validation_data, shuffle, class_weight, sample_weight, initial_epoch, steps_per_epoch, validation_steps, validation_batch_size, validation_freq, max_queue_size, workers, use_multiprocessing)\u001b[0m\n\u001b[1;32m   1186\u001b[0m               \u001b[0mlogs\u001b[0m \u001b[0;34m=\u001b[0m \u001b[0mtmp_logs\u001b[0m  \u001b[0;31m# No error, now safe to assign to logs.\u001b[0m\u001b[0;34m\u001b[0m\u001b[0;34m\u001b[0m\u001b[0m\n\u001b[1;32m   1187\u001b[0m               \u001b[0mend_step\u001b[0m \u001b[0;34m=\u001b[0m \u001b[0mstep\u001b[0m \u001b[0;34m+\u001b[0m \u001b[0mdata_handler\u001b[0m\u001b[0;34m.\u001b[0m\u001b[0mstep_increment\u001b[0m\u001b[0;34m\u001b[0m\u001b[0;34m\u001b[0m\u001b[0m\n\u001b[0;32m-> 1188\u001b[0;31m               \u001b[0mcallbacks\u001b[0m\u001b[0;34m.\u001b[0m\u001b[0mon_train_batch_end\u001b[0m\u001b[0;34m(\u001b[0m\u001b[0mend_step\u001b[0m\u001b[0;34m,\u001b[0m \u001b[0mlogs\u001b[0m\u001b[0;34m)\u001b[0m\u001b[0;34m\u001b[0m\u001b[0;34m\u001b[0m\u001b[0m\n\u001b[0m\u001b[1;32m   1189\u001b[0m               \u001b[0;32mif\u001b[0m \u001b[0mself\u001b[0m\u001b[0;34m.\u001b[0m\u001b[0mstop_training\u001b[0m\u001b[0;34m:\u001b[0m\u001b[0;34m\u001b[0m\u001b[0;34m\u001b[0m\u001b[0m\n\u001b[1;32m   1190\u001b[0m                 \u001b[0;32mbreak\u001b[0m\u001b[0;34m\u001b[0m\u001b[0;34m\u001b[0m\u001b[0m\n",
            "\u001b[0;32m/usr/local/lib/python3.7/dist-packages/tensorflow/python/keras/callbacks.py\u001b[0m in \u001b[0;36mon_train_batch_end\u001b[0;34m(self, batch, logs)\u001b[0m\n\u001b[1;32m    455\u001b[0m     \"\"\"\n\u001b[1;32m    456\u001b[0m     \u001b[0;32mif\u001b[0m \u001b[0mself\u001b[0m\u001b[0;34m.\u001b[0m\u001b[0m_should_call_train_batch_hooks\u001b[0m\u001b[0;34m:\u001b[0m\u001b[0;34m\u001b[0m\u001b[0;34m\u001b[0m\u001b[0m\n\u001b[0;32m--> 457\u001b[0;31m       \u001b[0mself\u001b[0m\u001b[0;34m.\u001b[0m\u001b[0m_call_batch_hook\u001b[0m\u001b[0;34m(\u001b[0m\u001b[0mModeKeys\u001b[0m\u001b[0;34m.\u001b[0m\u001b[0mTRAIN\u001b[0m\u001b[0;34m,\u001b[0m \u001b[0;34m'end'\u001b[0m\u001b[0;34m,\u001b[0m \u001b[0mbatch\u001b[0m\u001b[0;34m,\u001b[0m \u001b[0mlogs\u001b[0m\u001b[0;34m=\u001b[0m\u001b[0mlogs\u001b[0m\u001b[0;34m)\u001b[0m\u001b[0;34m\u001b[0m\u001b[0;34m\u001b[0m\u001b[0m\n\u001b[0m\u001b[1;32m    458\u001b[0m \u001b[0;34m\u001b[0m\u001b[0m\n\u001b[1;32m    459\u001b[0m   \u001b[0;32mdef\u001b[0m \u001b[0mon_test_batch_begin\u001b[0m\u001b[0;34m(\u001b[0m\u001b[0mself\u001b[0m\u001b[0;34m,\u001b[0m \u001b[0mbatch\u001b[0m\u001b[0;34m,\u001b[0m \u001b[0mlogs\u001b[0m\u001b[0;34m=\u001b[0m\u001b[0;32mNone\u001b[0m\u001b[0;34m)\u001b[0m\u001b[0;34m:\u001b[0m\u001b[0;34m\u001b[0m\u001b[0;34m\u001b[0m\u001b[0m\n",
            "\u001b[0;32m/usr/local/lib/python3.7/dist-packages/tensorflow/python/keras/callbacks.py\u001b[0m in \u001b[0;36m_call_batch_hook\u001b[0;34m(self, mode, hook, batch, logs)\u001b[0m\n\u001b[1;32m    315\u001b[0m       \u001b[0mself\u001b[0m\u001b[0;34m.\u001b[0m\u001b[0m_call_batch_begin_hook\u001b[0m\u001b[0;34m(\u001b[0m\u001b[0mmode\u001b[0m\u001b[0;34m,\u001b[0m \u001b[0mbatch\u001b[0m\u001b[0;34m,\u001b[0m \u001b[0mlogs\u001b[0m\u001b[0;34m)\u001b[0m\u001b[0;34m\u001b[0m\u001b[0;34m\u001b[0m\u001b[0m\n\u001b[1;32m    316\u001b[0m     \u001b[0;32melif\u001b[0m \u001b[0mhook\u001b[0m \u001b[0;34m==\u001b[0m \u001b[0;34m'end'\u001b[0m\u001b[0;34m:\u001b[0m\u001b[0;34m\u001b[0m\u001b[0;34m\u001b[0m\u001b[0m\n\u001b[0;32m--> 317\u001b[0;31m       \u001b[0mself\u001b[0m\u001b[0;34m.\u001b[0m\u001b[0m_call_batch_end_hook\u001b[0m\u001b[0;34m(\u001b[0m\u001b[0mmode\u001b[0m\u001b[0;34m,\u001b[0m \u001b[0mbatch\u001b[0m\u001b[0;34m,\u001b[0m \u001b[0mlogs\u001b[0m\u001b[0;34m)\u001b[0m\u001b[0;34m\u001b[0m\u001b[0;34m\u001b[0m\u001b[0m\n\u001b[0m\u001b[1;32m    318\u001b[0m     \u001b[0;32melse\u001b[0m\u001b[0;34m:\u001b[0m\u001b[0;34m\u001b[0m\u001b[0;34m\u001b[0m\u001b[0m\n\u001b[1;32m    319\u001b[0m       \u001b[0;32mraise\u001b[0m \u001b[0mValueError\u001b[0m\u001b[0;34m(\u001b[0m\u001b[0;34m'Unrecognized hook: {}'\u001b[0m\u001b[0;34m.\u001b[0m\u001b[0mformat\u001b[0m\u001b[0;34m(\u001b[0m\u001b[0mhook\u001b[0m\u001b[0;34m)\u001b[0m\u001b[0;34m)\u001b[0m\u001b[0;34m\u001b[0m\u001b[0;34m\u001b[0m\u001b[0m\n",
            "\u001b[0;32m/usr/local/lib/python3.7/dist-packages/tensorflow/python/keras/callbacks.py\u001b[0m in \u001b[0;36m_call_batch_end_hook\u001b[0;34m(self, mode, batch, logs)\u001b[0m\n\u001b[1;32m    335\u001b[0m       \u001b[0mself\u001b[0m\u001b[0;34m.\u001b[0m\u001b[0m_batch_times\u001b[0m\u001b[0;34m.\u001b[0m\u001b[0mappend\u001b[0m\u001b[0;34m(\u001b[0m\u001b[0mbatch_time\u001b[0m\u001b[0;34m)\u001b[0m\u001b[0;34m\u001b[0m\u001b[0;34m\u001b[0m\u001b[0m\n\u001b[1;32m    336\u001b[0m \u001b[0;34m\u001b[0m\u001b[0m\n\u001b[0;32m--> 337\u001b[0;31m     \u001b[0mself\u001b[0m\u001b[0;34m.\u001b[0m\u001b[0m_call_batch_hook_helper\u001b[0m\u001b[0;34m(\u001b[0m\u001b[0mhook_name\u001b[0m\u001b[0;34m,\u001b[0m \u001b[0mbatch\u001b[0m\u001b[0;34m,\u001b[0m \u001b[0mlogs\u001b[0m\u001b[0;34m)\u001b[0m\u001b[0;34m\u001b[0m\u001b[0;34m\u001b[0m\u001b[0m\n\u001b[0m\u001b[1;32m    338\u001b[0m \u001b[0;34m\u001b[0m\u001b[0m\n\u001b[1;32m    339\u001b[0m     \u001b[0;32mif\u001b[0m \u001b[0mlen\u001b[0m\u001b[0;34m(\u001b[0m\u001b[0mself\u001b[0m\u001b[0;34m.\u001b[0m\u001b[0m_batch_times\u001b[0m\u001b[0;34m)\u001b[0m \u001b[0;34m>=\u001b[0m \u001b[0mself\u001b[0m\u001b[0;34m.\u001b[0m\u001b[0m_num_batches_for_timing_check\u001b[0m\u001b[0;34m:\u001b[0m\u001b[0;34m\u001b[0m\u001b[0;34m\u001b[0m\u001b[0m\n",
            "\u001b[0;32m/usr/local/lib/python3.7/dist-packages/tensorflow/python/keras/callbacks.py\u001b[0m in \u001b[0;36m_call_batch_hook_helper\u001b[0;34m(self, hook_name, batch, logs)\u001b[0m\n\u001b[1;32m    373\u001b[0m     \u001b[0;32mfor\u001b[0m \u001b[0mcallback\u001b[0m \u001b[0;32min\u001b[0m \u001b[0mself\u001b[0m\u001b[0;34m.\u001b[0m\u001b[0mcallbacks\u001b[0m\u001b[0;34m:\u001b[0m\u001b[0;34m\u001b[0m\u001b[0;34m\u001b[0m\u001b[0m\n\u001b[1;32m    374\u001b[0m       \u001b[0mhook\u001b[0m \u001b[0;34m=\u001b[0m \u001b[0mgetattr\u001b[0m\u001b[0;34m(\u001b[0m\u001b[0mcallback\u001b[0m\u001b[0;34m,\u001b[0m \u001b[0mhook_name\u001b[0m\u001b[0;34m)\u001b[0m\u001b[0;34m\u001b[0m\u001b[0;34m\u001b[0m\u001b[0m\n\u001b[0;32m--> 375\u001b[0;31m       \u001b[0mhook\u001b[0m\u001b[0;34m(\u001b[0m\u001b[0mbatch\u001b[0m\u001b[0;34m,\u001b[0m \u001b[0mlogs\u001b[0m\u001b[0;34m)\u001b[0m\u001b[0;34m\u001b[0m\u001b[0;34m\u001b[0m\u001b[0m\n\u001b[0m\u001b[1;32m    376\u001b[0m \u001b[0;34m\u001b[0m\u001b[0m\n\u001b[1;32m    377\u001b[0m     \u001b[0;32mif\u001b[0m \u001b[0mself\u001b[0m\u001b[0;34m.\u001b[0m\u001b[0m_check_timing\u001b[0m\u001b[0;34m:\u001b[0m\u001b[0;34m\u001b[0m\u001b[0;34m\u001b[0m\u001b[0m\n",
            "\u001b[0;32m/usr/local/lib/python3.7/dist-packages/tensorflow/python/keras/callbacks.py\u001b[0m in \u001b[0;36mon_train_batch_end\u001b[0;34m(self, batch, logs)\u001b[0m\n\u001b[1;32m   1027\u001b[0m \u001b[0;34m\u001b[0m\u001b[0m\n\u001b[1;32m   1028\u001b[0m   \u001b[0;32mdef\u001b[0m \u001b[0mon_train_batch_end\u001b[0m\u001b[0;34m(\u001b[0m\u001b[0mself\u001b[0m\u001b[0;34m,\u001b[0m \u001b[0mbatch\u001b[0m\u001b[0;34m,\u001b[0m \u001b[0mlogs\u001b[0m\u001b[0;34m=\u001b[0m\u001b[0;32mNone\u001b[0m\u001b[0;34m)\u001b[0m\u001b[0;34m:\u001b[0m\u001b[0;34m\u001b[0m\u001b[0;34m\u001b[0m\u001b[0m\n\u001b[0;32m-> 1029\u001b[0;31m     \u001b[0mself\u001b[0m\u001b[0;34m.\u001b[0m\u001b[0m_batch_update_progbar\u001b[0m\u001b[0;34m(\u001b[0m\u001b[0mbatch\u001b[0m\u001b[0;34m,\u001b[0m \u001b[0mlogs\u001b[0m\u001b[0;34m)\u001b[0m\u001b[0;34m\u001b[0m\u001b[0;34m\u001b[0m\u001b[0m\n\u001b[0m\u001b[1;32m   1030\u001b[0m \u001b[0;34m\u001b[0m\u001b[0m\n\u001b[1;32m   1031\u001b[0m   \u001b[0;32mdef\u001b[0m \u001b[0mon_test_batch_end\u001b[0m\u001b[0;34m(\u001b[0m\u001b[0mself\u001b[0m\u001b[0;34m,\u001b[0m \u001b[0mbatch\u001b[0m\u001b[0;34m,\u001b[0m \u001b[0mlogs\u001b[0m\u001b[0;34m=\u001b[0m\u001b[0;32mNone\u001b[0m\u001b[0;34m)\u001b[0m\u001b[0;34m:\u001b[0m\u001b[0;34m\u001b[0m\u001b[0;34m\u001b[0m\u001b[0m\n",
            "\u001b[0;32m/usr/local/lib/python3.7/dist-packages/tensorflow/python/keras/callbacks.py\u001b[0m in \u001b[0;36m_batch_update_progbar\u001b[0;34m(self, batch, logs)\u001b[0m\n\u001b[1;32m   1100\u001b[0m       \u001b[0;31m# Only block async when verbose = 1.\u001b[0m\u001b[0;34m\u001b[0m\u001b[0;34m\u001b[0m\u001b[0;34m\u001b[0m\u001b[0m\n\u001b[1;32m   1101\u001b[0m       \u001b[0mlogs\u001b[0m \u001b[0;34m=\u001b[0m \u001b[0mtf_utils\u001b[0m\u001b[0;34m.\u001b[0m\u001b[0msync_to_numpy_or_python_type\u001b[0m\u001b[0;34m(\u001b[0m\u001b[0mlogs\u001b[0m\u001b[0;34m)\u001b[0m\u001b[0;34m\u001b[0m\u001b[0;34m\u001b[0m\u001b[0m\n\u001b[0;32m-> 1102\u001b[0;31m       \u001b[0mself\u001b[0m\u001b[0;34m.\u001b[0m\u001b[0mprogbar\u001b[0m\u001b[0;34m.\u001b[0m\u001b[0mupdate\u001b[0m\u001b[0;34m(\u001b[0m\u001b[0mself\u001b[0m\u001b[0;34m.\u001b[0m\u001b[0mseen\u001b[0m\u001b[0;34m,\u001b[0m \u001b[0mlist\u001b[0m\u001b[0;34m(\u001b[0m\u001b[0mlogs\u001b[0m\u001b[0;34m.\u001b[0m\u001b[0mitems\u001b[0m\u001b[0;34m(\u001b[0m\u001b[0;34m)\u001b[0m\u001b[0;34m)\u001b[0m\u001b[0;34m,\u001b[0m \u001b[0mfinalize\u001b[0m\u001b[0;34m=\u001b[0m\u001b[0;32mFalse\u001b[0m\u001b[0;34m)\u001b[0m\u001b[0;34m\u001b[0m\u001b[0;34m\u001b[0m\u001b[0m\n\u001b[0m\u001b[1;32m   1103\u001b[0m \u001b[0;34m\u001b[0m\u001b[0m\n\u001b[1;32m   1104\u001b[0m   \u001b[0;32mdef\u001b[0m \u001b[0m_finalize_progbar\u001b[0m\u001b[0;34m(\u001b[0m\u001b[0mself\u001b[0m\u001b[0;34m,\u001b[0m \u001b[0mlogs\u001b[0m\u001b[0;34m,\u001b[0m \u001b[0mcounter\u001b[0m\u001b[0;34m)\u001b[0m\u001b[0;34m:\u001b[0m\u001b[0;34m\u001b[0m\u001b[0;34m\u001b[0m\u001b[0m\n",
            "\u001b[0;32m/usr/local/lib/python3.7/dist-packages/tensorflow/python/keras/utils/generic_utils.py\u001b[0m in \u001b[0;36mupdate\u001b[0;34m(self, current, values, finalize)\u001b[0m\n\u001b[1;32m    902\u001b[0m       \u001b[0;32mif\u001b[0m \u001b[0mself\u001b[0m\u001b[0;34m.\u001b[0m\u001b[0m_dynamic_display\u001b[0m\u001b[0;34m:\u001b[0m\u001b[0;34m\u001b[0m\u001b[0;34m\u001b[0m\u001b[0m\n\u001b[1;32m    903\u001b[0m         \u001b[0msys\u001b[0m\u001b[0;34m.\u001b[0m\u001b[0mstdout\u001b[0m\u001b[0;34m.\u001b[0m\u001b[0mwrite\u001b[0m\u001b[0;34m(\u001b[0m\u001b[0;34m'\\b'\u001b[0m \u001b[0;34m*\u001b[0m \u001b[0mprev_total_width\u001b[0m\u001b[0;34m)\u001b[0m\u001b[0;34m\u001b[0m\u001b[0;34m\u001b[0m\u001b[0m\n\u001b[0;32m--> 904\u001b[0;31m         \u001b[0msys\u001b[0m\u001b[0;34m.\u001b[0m\u001b[0mstdout\u001b[0m\u001b[0;34m.\u001b[0m\u001b[0mwrite\u001b[0m\u001b[0;34m(\u001b[0m\u001b[0;34m'\\r'\u001b[0m\u001b[0;34m)\u001b[0m\u001b[0;34m\u001b[0m\u001b[0;34m\u001b[0m\u001b[0m\n\u001b[0m\u001b[1;32m    905\u001b[0m       \u001b[0;32melse\u001b[0m\u001b[0;34m:\u001b[0m\u001b[0;34m\u001b[0m\u001b[0;34m\u001b[0m\u001b[0m\n\u001b[1;32m    906\u001b[0m         \u001b[0msys\u001b[0m\u001b[0;34m.\u001b[0m\u001b[0mstdout\u001b[0m\u001b[0;34m.\u001b[0m\u001b[0mwrite\u001b[0m\u001b[0;34m(\u001b[0m\u001b[0;34m'\\n'\u001b[0m\u001b[0;34m)\u001b[0m\u001b[0;34m\u001b[0m\u001b[0;34m\u001b[0m\u001b[0m\n",
            "\u001b[0;32m/usr/local/lib/python3.7/dist-packages/ipykernel/iostream.py\u001b[0m in \u001b[0;36mwrite\u001b[0;34m(self, string)\u001b[0m\n\u001b[1;32m    398\u001b[0m             \u001b[0mis_child\u001b[0m \u001b[0;34m=\u001b[0m \u001b[0;34m(\u001b[0m\u001b[0;32mnot\u001b[0m \u001b[0mself\u001b[0m\u001b[0;34m.\u001b[0m\u001b[0m_is_master_process\u001b[0m\u001b[0;34m(\u001b[0m\u001b[0;34m)\u001b[0m\u001b[0;34m)\u001b[0m\u001b[0;34m\u001b[0m\u001b[0;34m\u001b[0m\u001b[0m\n\u001b[1;32m    399\u001b[0m             \u001b[0;31m# only touch the buffer in the IO thread to avoid races\u001b[0m\u001b[0;34m\u001b[0m\u001b[0;34m\u001b[0m\u001b[0;34m\u001b[0m\u001b[0m\n\u001b[0;32m--> 400\u001b[0;31m             \u001b[0mself\u001b[0m\u001b[0;34m.\u001b[0m\u001b[0mpub_thread\u001b[0m\u001b[0;34m.\u001b[0m\u001b[0mschedule\u001b[0m\u001b[0;34m(\u001b[0m\u001b[0;32mlambda\u001b[0m \u001b[0;34m:\u001b[0m \u001b[0mself\u001b[0m\u001b[0;34m.\u001b[0m\u001b[0m_buffer\u001b[0m\u001b[0;34m.\u001b[0m\u001b[0mwrite\u001b[0m\u001b[0;34m(\u001b[0m\u001b[0mstring\u001b[0m\u001b[0;34m)\u001b[0m\u001b[0;34m)\u001b[0m\u001b[0;34m\u001b[0m\u001b[0;34m\u001b[0m\u001b[0m\n\u001b[0m\u001b[1;32m    401\u001b[0m             \u001b[0;32mif\u001b[0m \u001b[0mis_child\u001b[0m\u001b[0;34m:\u001b[0m\u001b[0;34m\u001b[0m\u001b[0;34m\u001b[0m\u001b[0m\n\u001b[1;32m    402\u001b[0m                 \u001b[0;31m# newlines imply flush in subprocesses\u001b[0m\u001b[0;34m\u001b[0m\u001b[0;34m\u001b[0m\u001b[0;34m\u001b[0m\u001b[0m\n",
            "\u001b[0;32m/usr/local/lib/python3.7/dist-packages/ipykernel/iostream.py\u001b[0m in \u001b[0;36mschedule\u001b[0;34m(self, f)\u001b[0m\n\u001b[1;32m    201\u001b[0m             \u001b[0mself\u001b[0m\u001b[0;34m.\u001b[0m\u001b[0m_events\u001b[0m\u001b[0;34m.\u001b[0m\u001b[0mappend\u001b[0m\u001b[0;34m(\u001b[0m\u001b[0mf\u001b[0m\u001b[0;34m)\u001b[0m\u001b[0;34m\u001b[0m\u001b[0;34m\u001b[0m\u001b[0m\n\u001b[1;32m    202\u001b[0m             \u001b[0;31m# wake event thread (message content is ignored)\u001b[0m\u001b[0;34m\u001b[0m\u001b[0;34m\u001b[0m\u001b[0;34m\u001b[0m\u001b[0m\n\u001b[0;32m--> 203\u001b[0;31m             \u001b[0mself\u001b[0m\u001b[0;34m.\u001b[0m\u001b[0m_event_pipe\u001b[0m\u001b[0;34m.\u001b[0m\u001b[0msend\u001b[0m\u001b[0;34m(\u001b[0m\u001b[0;34mb''\u001b[0m\u001b[0;34m)\u001b[0m\u001b[0;34m\u001b[0m\u001b[0;34m\u001b[0m\u001b[0m\n\u001b[0m\u001b[1;32m    204\u001b[0m         \u001b[0;32melse\u001b[0m\u001b[0;34m:\u001b[0m\u001b[0;34m\u001b[0m\u001b[0;34m\u001b[0m\u001b[0m\n\u001b[1;32m    205\u001b[0m             \u001b[0mf\u001b[0m\u001b[0;34m(\u001b[0m\u001b[0;34m)\u001b[0m\u001b[0;34m\u001b[0m\u001b[0;34m\u001b[0m\u001b[0m\n",
            "\u001b[0;32m/usr/local/lib/python3.7/dist-packages/zmq/sugar/socket.py\u001b[0m in \u001b[0;36msend\u001b[0;34m(self, data, flags, copy, track, routing_id, group)\u001b[0m\n\u001b[1;32m    503\u001b[0m                 )\n\u001b[1;32m    504\u001b[0m             \u001b[0mdata\u001b[0m\u001b[0;34m.\u001b[0m\u001b[0mgroup\u001b[0m \u001b[0;34m=\u001b[0m \u001b[0mgroup\u001b[0m\u001b[0;34m\u001b[0m\u001b[0;34m\u001b[0m\u001b[0m\n\u001b[0;32m--> 505\u001b[0;31m         \u001b[0;32mreturn\u001b[0m \u001b[0msuper\u001b[0m\u001b[0;34m(\u001b[0m\u001b[0mSocket\u001b[0m\u001b[0;34m,\u001b[0m \u001b[0mself\u001b[0m\u001b[0;34m)\u001b[0m\u001b[0;34m.\u001b[0m\u001b[0msend\u001b[0m\u001b[0;34m(\u001b[0m\u001b[0mdata\u001b[0m\u001b[0;34m,\u001b[0m \u001b[0mflags\u001b[0m\u001b[0;34m=\u001b[0m\u001b[0mflags\u001b[0m\u001b[0;34m,\u001b[0m \u001b[0mcopy\u001b[0m\u001b[0;34m=\u001b[0m\u001b[0mcopy\u001b[0m\u001b[0;34m,\u001b[0m \u001b[0mtrack\u001b[0m\u001b[0;34m=\u001b[0m\u001b[0mtrack\u001b[0m\u001b[0;34m)\u001b[0m\u001b[0;34m\u001b[0m\u001b[0;34m\u001b[0m\u001b[0m\n\u001b[0m\u001b[1;32m    506\u001b[0m \u001b[0;34m\u001b[0m\u001b[0m\n\u001b[1;32m    507\u001b[0m     \u001b[0;32mdef\u001b[0m \u001b[0msend_multipart\u001b[0m\u001b[0;34m(\u001b[0m\u001b[0mself\u001b[0m\u001b[0;34m,\u001b[0m \u001b[0mmsg_parts\u001b[0m\u001b[0;34m,\u001b[0m \u001b[0mflags\u001b[0m\u001b[0;34m=\u001b[0m\u001b[0;36m0\u001b[0m\u001b[0;34m,\u001b[0m \u001b[0mcopy\u001b[0m\u001b[0;34m=\u001b[0m\u001b[0;32mTrue\u001b[0m\u001b[0;34m,\u001b[0m \u001b[0mtrack\u001b[0m\u001b[0;34m=\u001b[0m\u001b[0;32mFalse\u001b[0m\u001b[0;34m,\u001b[0m \u001b[0;34m**\u001b[0m\u001b[0mkwargs\u001b[0m\u001b[0;34m)\u001b[0m\u001b[0;34m:\u001b[0m\u001b[0;34m\u001b[0m\u001b[0;34m\u001b[0m\u001b[0m\n",
            "\u001b[0;32mzmq/backend/cython/socket.pyx\u001b[0m in \u001b[0;36mzmq.backend.cython.socket.Socket.send\u001b[0;34m()\u001b[0m\n",
            "\u001b[0;32mzmq/backend/cython/socket.pyx\u001b[0m in \u001b[0;36mzmq.backend.cython.socket.Socket.send\u001b[0;34m()\u001b[0m\n",
            "\u001b[0;32mzmq/backend/cython/socket.pyx\u001b[0m in \u001b[0;36mzmq.backend.cython.socket._send_copy\u001b[0;34m()\u001b[0m\n",
            "\u001b[0;32m/usr/local/lib/python3.7/dist-packages/zmq/backend/cython/checkrc.pxd\u001b[0m in \u001b[0;36mzmq.backend.cython.checkrc._check_rc\u001b[0;34m()\u001b[0m\n",
            "\u001b[0;31mKeyboardInterrupt\u001b[0m: "
          ]
        }
      ]
    },
    {
      "cell_type": "code",
      "metadata": {
        "id": "2nULIyd9bD_C"
      },
      "source": [
        "visualizeModel(model)"
      ],
      "execution_count": null,
      "outputs": []
    },
    {
      "cell_type": "code",
      "metadata": {
        "id": "EOAQeuwD6ioV"
      },
      "source": [
        "#export model\n",
        " model.save(\"ncf\")"
      ],
      "execution_count": null,
      "outputs": []
    }
  ]
}